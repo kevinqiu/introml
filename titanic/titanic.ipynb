{
 "cells": [
  {
   "cell_type": "code",
   "execution_count": 47,
   "id": "b389a055-c43d-487d-a9a2-cbfbcbd58d3a",
   "metadata": {},
   "outputs": [],
   "source": [
    "import logging\n",
    "import os\n",
    "import pandas as pd\n",
    "import seaborn as sns\n",
    "import numpy as np\n",
    "from sklearn.linear_model import LogisticRegression\n",
    "from sklearn.metrics import accuracy_score"
   ]
  },
  {
   "cell_type": "code",
   "execution_count": 52,
   "id": "84658574-24fe-4576-a31b-68df0c94da3d",
   "metadata": {},
   "outputs": [
    {
     "name": "stderr",
     "output_type": "stream",
     "text": [
      "/var/folders/8w/yh7y0rrd46322mg0hzq12w3h0000gp/T/ipykernel_30633/3004673606.py:7: FutureWarning: Downcasting behavior in `replace` is deprecated and will be removed in a future version. To retain the old behavior, explicitly call `result.infer_objects(copy=False)`. To opt-in to the future behavior, set `pd.set_option('future.no_silent_downcasting', True)`\n",
      "  train['Sex'] = train['Sex'].replace(to_replace={'male':0,'female':1})\n",
      "/var/folders/8w/yh7y0rrd46322mg0hzq12w3h0000gp/T/ipykernel_30633/3004673606.py:7: SettingWithCopyWarning: \n",
      "A value is trying to be set on a copy of a slice from a DataFrame.\n",
      "Try using .loc[row_indexer,col_indexer] = value instead\n",
      "\n",
      "See the caveats in the documentation: https://pandas.pydata.org/pandas-docs/stable/user_guide/indexing.html#returning-a-view-versus-a-copy\n",
      "  train['Sex'] = train['Sex'].replace(to_replace={'male':0,'female':1})\n",
      "/var/folders/8w/yh7y0rrd46322mg0hzq12w3h0000gp/T/ipykernel_30633/3004673606.py:8: FutureWarning: Downcasting behavior in `replace` is deprecated and will be removed in a future version. To retain the old behavior, explicitly call `result.infer_objects(copy=False)`. To opt-in to the future behavior, set `pd.set_option('future.no_silent_downcasting', True)`\n",
      "  test['Sex'] = test['Sex'].replace(to_replace={'male':0,'female':1})\n",
      "/var/folders/8w/yh7y0rrd46322mg0hzq12w3h0000gp/T/ipykernel_30633/3004673606.py:8: SettingWithCopyWarning: \n",
      "A value is trying to be set on a copy of a slice from a DataFrame.\n",
      "Try using .loc[row_indexer,col_indexer] = value instead\n",
      "\n",
      "See the caveats in the documentation: https://pandas.pydata.org/pandas-docs/stable/user_guide/indexing.html#returning-a-view-versus-a-copy\n",
      "  test['Sex'] = test['Sex'].replace(to_replace={'male':0,'female':1})\n",
      "/var/folders/8w/yh7y0rrd46322mg0hzq12w3h0000gp/T/ipykernel_30633/3004673606.py:9: FutureWarning: Downcasting behavior in `replace` is deprecated and will be removed in a future version. To retain the old behavior, explicitly call `result.infer_objects(copy=False)`. To opt-in to the future behavior, set `pd.set_option('future.no_silent_downcasting', True)`\n",
      "  testRes['Sex'] = testRes['Sex'].replace(to_replace={'male':0,'female':1})\n"
     ]
    }
   ],
   "source": [
    "train_raw = pd.read_csv('train.csv',index_col='PassengerId')\n",
    "test_raw = pd.read_csv('test.csv',index_col='PassengerId')\n",
    "outcome = pd.read_csv('gender_submission.csv',index_col='PassengerId')\n",
    "train = train_raw.dropna(subset=['Age','Sex','Pclass'])\n",
    "test = test_raw.dropna(subset=['Age','Sex','Pclass'])\n",
    "testRes = test.join(outcome)\n",
    "train['Sex'] = train['Sex'].replace(to_replace={'male':0,'female':1})\n",
    "test['Sex'] = test['Sex'].replace(to_replace={'male':0,'female':1})\n",
    "testRes['Sex'] = testRes['Sex'].replace(to_replace={'male':0,'female':1})"
   ]
  },
  {
   "cell_type": "code",
   "execution_count": 48,
   "id": "7027ef8f-689e-4c90-a346-8cd3f8aa1fb1",
   "metadata": {},
   "outputs": [
    {
     "data": {
      "text/plain": [
       "0.9186746987951807"
      ]
     },
     "execution_count": 48,
     "metadata": {},
     "output_type": "execute_result"
    }
   ],
   "source": [
    "trainasc = train[['Age','Sex','Pclass']]\n",
    "logisticRegr = LogisticRegression()\n",
    "logisticRegr.fit(trainasc, np.ravel(train[['Survived']]))\n",
    "logisticRegr.predict(test[['Age','Sex','Pclass']])\n",
    "accuracy_score(logisticRegr.predict(test[['Age','Sex','Pclass']]), testRes[['Survived']])"
   ]
  },
  {
   "cell_type": "code",
   "execution_count": 53,
   "id": "15d697c3-02f7-4523-8edb-53fdd9025b43",
   "metadata": {},
   "outputs": [
    {
     "data": {
      "text/plain": [
       "0.536144578313253"
      ]
     },
     "execution_count": 53,
     "metadata": {},
     "output_type": "execute_result"
    }
   ],
   "source": [
    "logReg = LogisticRegression()\n",
    "logReg.fit(train[['Age','Sex','Survived']], np.ravel(train[['Pclass']]))\n",
    "logReg.predict(testRes[['Age','Sex','Survived']])\n",
    "accuracy_score(logReg.predict(testRes[['Age','Sex','Survived']]), testRes[['Pclass']])"
   ]
  },
  {
   "cell_type": "code",
   "execution_count": 66,
   "id": "0d882c24-edc7-4467-87dd-31c587603f1d",
   "metadata": {},
   "outputs": [
    {
     "data": {
      "text/plain": [
       "0.5783132530120482"
      ]
     },
     "execution_count": 66,
     "metadata": {},
     "output_type": "execute_result"
    }
   ],
   "source": [
    "factors = ['Sex','Age']\n",
    "logReg1 = LogisticRegression()\n",
    "logReg1.fit(train[factors], np.ravel(train[['Pclass']]))\n",
    "logReg1.predict(testRes[factors])\n",
    "accuracy_score(logReg1.predict(testRes[factors]), testRes[['Pclass']])"
   ]
  },
  {
   "cell_type": "code",
   "execution_count": null,
   "id": "3d29b7c8-9ff1-4079-864e-c87104984fd1",
   "metadata": {},
   "outputs": [],
   "source": []
  }
 ],
 "metadata": {
  "kernelspec": {
   "display_name": "Python 3 (ipykernel)",
   "language": "python",
   "name": "python3"
  },
  "language_info": {
   "codemirror_mode": {
    "name": "ipython",
    "version": 3
   },
   "file_extension": ".py",
   "mimetype": "text/x-python",
   "name": "python",
   "nbconvert_exporter": "python",
   "pygments_lexer": "ipython3",
   "version": "3.11.8"
  }
 },
 "nbformat": 4,
 "nbformat_minor": 5
}
